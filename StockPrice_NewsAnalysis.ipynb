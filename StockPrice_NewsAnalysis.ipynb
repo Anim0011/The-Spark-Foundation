{
 "cells": [
  {
   "cell_type": "markdown",
   "metadata": {},
   "source": [
    "# Importing Libraries and Loading Data"
   ]
  },
  {
   "cell_type": "code",
   "execution_count": 2,
   "metadata": {},
   "outputs": [],
   "source": [
    "import numpy as np\n",
    "import pandas as pd\n",
    "import matplotlib.pyplot as plt\n",
    "import seaborn as sb\n",
    "from matplotlib import style\n",
    "from sklearn.metrics import mean_squared_error\n",
    "style.use(\"dark_background\")\n",
    "import nltk\n",
    "import warnings\n",
    "warnings.filterwarnings(\"ignore\", category=DeprecationWarning)\n",
    "from nltk.sentiment.vader import SentimentIntensityAnalyzer\n",
    "from sklearn.preprocessing import MinMaxScaler\n",
    "from sklearn.model_selection import train_test_split\n",
    "from sklearn.ensemble import RandomForestRegressor, AdaBoostRegressor\n",
    "import xgboost "
   ]
  },
  {
   "cell_type": "code",
   "execution_count": 3,
   "metadata": {},
   "outputs": [
    {
     "data": {
      "text/html": [
       "<div>\n",
       "<style scoped>\n",
       "    .dataframe tbody tr th:only-of-type {\n",
       "        vertical-align: middle;\n",
       "    }\n",
       "\n",
       "    .dataframe tbody tr th {\n",
       "        vertical-align: top;\n",
       "    }\n",
       "\n",
       "    .dataframe thead th {\n",
       "        text-align: right;\n",
       "    }\n",
       "</style>\n",
       "<table border=\"1\" class=\"dataframe\">\n",
       "  <thead>\n",
       "    <tr style=\"text-align: right;\">\n",
       "      <th></th>\n",
       "      <th>Date</th>\n",
       "      <th>Open</th>\n",
       "      <th>High</th>\n",
       "      <th>Low</th>\n",
       "      <th>Close</th>\n",
       "      <th>Adj Close</th>\n",
       "      <th>Volume</th>\n",
       "    </tr>\n",
       "  </thead>\n",
       "  <tbody>\n",
       "    <tr>\n",
       "      <th>0</th>\n",
       "      <td>2015-11-04</td>\n",
       "      <td>26704.019531</td>\n",
       "      <td>26800.060547</td>\n",
       "      <td>26510.310547</td>\n",
       "      <td>26552.919922</td>\n",
       "      <td>26552.919922</td>\n",
       "      <td>8000.0</td>\n",
       "    </tr>\n",
       "    <tr>\n",
       "      <th>1</th>\n",
       "      <td>2015-11-05</td>\n",
       "      <td>26557.800781</td>\n",
       "      <td>26557.800781</td>\n",
       "      <td>26243.199219</td>\n",
       "      <td>26304.199219</td>\n",
       "      <td>26304.199219</td>\n",
       "      <td>12300.0</td>\n",
       "    </tr>\n",
       "    <tr>\n",
       "      <th>2</th>\n",
       "      <td>2015-11-06</td>\n",
       "      <td>26284.009766</td>\n",
       "      <td>26438.859375</td>\n",
       "      <td>26190.179688</td>\n",
       "      <td>26265.240234</td>\n",
       "      <td>26265.240234</td>\n",
       "      <td>15600.0</td>\n",
       "    </tr>\n",
       "    <tr>\n",
       "      <th>3</th>\n",
       "      <td>2015-11-09</td>\n",
       "      <td>25809.000000</td>\n",
       "      <td>26193.169922</td>\n",
       "      <td>25656.900391</td>\n",
       "      <td>26121.400391</td>\n",
       "      <td>26121.400391</td>\n",
       "      <td>13300.0</td>\n",
       "    </tr>\n",
       "    <tr>\n",
       "      <th>4</th>\n",
       "      <td>2015-11-10</td>\n",
       "      <td>26094.089844</td>\n",
       "      <td>26094.089844</td>\n",
       "      <td>25709.230469</td>\n",
       "      <td>25743.259766</td>\n",
       "      <td>25743.259766</td>\n",
       "      <td>12800.0</td>\n",
       "    </tr>\n",
       "    <tr>\n",
       "      <th>...</th>\n",
       "      <td>...</td>\n",
       "      <td>...</td>\n",
       "      <td>...</td>\n",
       "      <td>...</td>\n",
       "      <td>...</td>\n",
       "      <td>...</td>\n",
       "      <td>...</td>\n",
       "    </tr>\n",
       "    <tr>\n",
       "      <th>1227</th>\n",
       "      <td>2020-10-28</td>\n",
       "      <td>40664.351563</td>\n",
       "      <td>40664.351563</td>\n",
       "      <td>39774.601563</td>\n",
       "      <td>39922.460938</td>\n",
       "      <td>39922.460938</td>\n",
       "      <td>29400.0</td>\n",
       "    </tr>\n",
       "    <tr>\n",
       "      <th>1228</th>\n",
       "      <td>2020-10-29</td>\n",
       "      <td>39537.171875</td>\n",
       "      <td>40010.828125</td>\n",
       "      <td>39524.250000</td>\n",
       "      <td>39749.851563</td>\n",
       "      <td>39749.851563</td>\n",
       "      <td>19500.0</td>\n",
       "    </tr>\n",
       "    <tr>\n",
       "      <th>1229</th>\n",
       "      <td>2020-10-30</td>\n",
       "      <td>39779.820313</td>\n",
       "      <td>39988.250000</td>\n",
       "      <td>39241.871094</td>\n",
       "      <td>39614.070313</td>\n",
       "      <td>39614.070313</td>\n",
       "      <td>12000.0</td>\n",
       "    </tr>\n",
       "    <tr>\n",
       "      <th>1230</th>\n",
       "      <td>2020-11-02</td>\n",
       "      <td>39880.378906</td>\n",
       "      <td>39968.031250</td>\n",
       "      <td>39334.921875</td>\n",
       "      <td>39757.578125</td>\n",
       "      <td>39757.578125</td>\n",
       "      <td>15400.0</td>\n",
       "    </tr>\n",
       "    <tr>\n",
       "      <th>1231</th>\n",
       "      <td>2020-11-03</td>\n",
       "      <td>39990.750000</td>\n",
       "      <td>40354.730469</td>\n",
       "      <td>39952.789063</td>\n",
       "      <td>40261.128906</td>\n",
       "      <td>40261.128906</td>\n",
       "      <td>21400.0</td>\n",
       "    </tr>\n",
       "  </tbody>\n",
       "</table>\n",
       "<p>1232 rows × 7 columns</p>\n",
       "</div>"
      ],
      "text/plain": [
       "            Date          Open          High           Low         Close  \\\n",
       "0     2015-11-04  26704.019531  26800.060547  26510.310547  26552.919922   \n",
       "1     2015-11-05  26557.800781  26557.800781  26243.199219  26304.199219   \n",
       "2     2015-11-06  26284.009766  26438.859375  26190.179688  26265.240234   \n",
       "3     2015-11-09  25809.000000  26193.169922  25656.900391  26121.400391   \n",
       "4     2015-11-10  26094.089844  26094.089844  25709.230469  25743.259766   \n",
       "...          ...           ...           ...           ...           ...   \n",
       "1227  2020-10-28  40664.351563  40664.351563  39774.601563  39922.460938   \n",
       "1228  2020-10-29  39537.171875  40010.828125  39524.250000  39749.851563   \n",
       "1229  2020-10-30  39779.820313  39988.250000  39241.871094  39614.070313   \n",
       "1230  2020-11-02  39880.378906  39968.031250  39334.921875  39757.578125   \n",
       "1231  2020-11-03  39990.750000  40354.730469  39952.789063  40261.128906   \n",
       "\n",
       "         Adj Close   Volume  \n",
       "0     26552.919922   8000.0  \n",
       "1     26304.199219  12300.0  \n",
       "2     26265.240234  15600.0  \n",
       "3     26121.400391  13300.0  \n",
       "4     25743.259766  12800.0  \n",
       "...            ...      ...  \n",
       "1227  39922.460938  29400.0  \n",
       "1228  39749.851563  19500.0  \n",
       "1229  39614.070313  12000.0  \n",
       "1230  39757.578125  15400.0  \n",
       "1231  40261.128906  21400.0  \n",
       "\n",
       "[1232 rows x 7 columns]"
      ]
     },
     "execution_count": 3,
     "metadata": {},
     "output_type": "execute_result"
    }
   ],
   "source": [
    "data = pd.read_csv(\"C:/Users/Animkush/Desktop/Practice/data/BSESN.csv\")\n",
    "data.head()\n",
    "data"
   ]
  },
  {
   "cell_type": "code",
   "execution_count": 4,
   "metadata": {},
   "outputs": [],
   "source": [
    "data[\"Date\"] = pd.to_datetime(data[\"Date\"]) # converting date to DateTIme format\n",
    "data.dropna(inplace=True)"
   ]
  },
  {
   "cell_type": "code",
   "execution_count": 5,
   "metadata": {},
   "outputs": [
    {
     "data": {
      "text/plain": [
       "Text(0, 0.5, 'Close')"
      ]
     },
     "execution_count": 5,
     "metadata": {},
     "output_type": "execute_result"
    },
    {
     "data": {
      "image/png": "[encoded data removed]",
      "text/plain": [
       "<Figure size 576x432 with 1 Axes>"
      ]
     },
     "metadata": {},
     "output_type": "display_data"
    }
   ],
   "source": [
    "plt.figure(figsize=(8, 6))\n",
    "data[\"Close\"].plot()\n",
    "plt.ylabel(\"Close\")"
   ]
  },
  {
   "cell_type": "code",
   "execution_count": 6,
   "metadata": {},
   "outputs": [
    {
     "data": {
      "text/plain": [
       "<matplotlib.axes._subplots.AxesSubplot at 0x2defe234e10>"
      ]
     },
     "execution_count": 6,
     "metadata": {},
     "output_type": "execute_result"
    },
    {
     "data": {
      "image/png": "[encoded data removed]",
      "text/plain": [
       "<Figure size 432x288 with 2 Axes>"
      ]
     },
     "metadata": {},
     "output_type": "display_data"
    }
   ],
   "source": [
    "sb.heatmap(data.corr(), annot=True, linewidth=1, linecolor=\"black\") # checking if thewre any correlation between any features."
   ]
  },
  {
   "cell_type": "markdown",
   "metadata": {},
   "source": [
    "# Using Auto Arima Library for Stock Prediction."
   ]
  },
  {
   "cell_type": "code",
   "execution_count": null,
   "metadata": {},
   "outputs": [],
   "source": [
    "from pmdarima import auto_arima\n",
    "\n",
    "train = data[:1000]\n",
    "test = data[1000:]\n",
    "\n",
    "training = train[\"Close\"]\n",
    "testing = valid[\"Close\"]\n",
    "\n",
    "model = auto_arima(training, trace = True, error_action = 'ignore', suppress_warnings = True)\n",
    "\n",
    "model.fit(training)"
   ]
  },
  {
   "cell_type": "markdown",
   "metadata": {},
   "source": [
    "# Predicting The stocks"
   ]
  },
  {
   "cell_type": "code",
   "execution_count": 8,
   "metadata": {},
   "outputs": [],
   "source": [
    "forecast = model.predict(n_periods=len(testing))\n",
    "forecast = pd.DataFrame(forecast, index=test.index, columns=[\"Prediction\"])"
   ]
  },
  {
   "cell_type": "code",
   "execution_count": 9,
   "metadata": {},
   "outputs": [
    {
     "data": {
      "text/plain": [
       "6926.575652821915"
      ]
     },
     "execution_count": 9,
     "metadata": {},
     "output_type": "execute_result"
    }
   ],
   "source": [
    "rms = np.sqrt(mean_squared_error(testing, forecast))\n",
    "rms"
   ]
  },
  {
   "cell_type": "markdown",
   "metadata": {},
   "source": [
    "Root Mean Squared is 6926.575"
   ]
  },
  {
   "cell_type": "code",
   "execution_count": 10,
   "metadata": {},
   "outputs": [
    {
     "data": {
      "text/plain": [
       "Text(0.5, 0, 'Time')"
      ]
     },
     "execution_count": 10,
     "metadata": {},
     "output_type": "execute_result"
    },
    {
     "data": {
      "image/png": "[encoded data removed]",
      "text/plain": [
       "<Figure size 432x288 with 1 Axes>"
      ]
     },
     "metadata": {},
     "output_type": "display_data"
    }
   ],
   "source": [
    "plt.plot(train['Close'])\n",
    "plt.plot(test['Close'])\n",
    "plt.plot(forecast['Prediction'])\n",
    "plt.ylabel(\"Actual Stock\")\n",
    "plt.xlabel(\"Time\")"
   ]
  },
  {
   "cell_type": "markdown",
   "metadata": {},
   "source": [
    "# Analyzing the News Data"
   ]
  },
  {
   "cell_type": "code",
   "execution_count": 11,
   "metadata": {},
   "outputs": [
    {
     "name": "stderr",
     "output_type": "stream",
     "text": [
      "C:\\Users\\Animkush\\anaconda3\\lib\\site-packages\\IPython\\core\\interactiveshell.py:3072: DtypeWarning: Columns (0) have mixed types.Specify dtype option on import or set low_memory=False.\n",
      "  interactivity=interactivity, compiler=compiler, result=result)\n"
     ]
    }
   ],
   "source": [
    "col  = [\"Date\", \"Category\", \"News\"]\n",
    "news_data =  pd.read_csv(\"C:/Users/Animkush/Desktop/Practice/Data/indiannews.csv\", names=col)\n",
    "news_data = news_data[2218550:]"
   ]
  },
  {
   "cell_type": "code",
   "execution_count": 12,
   "metadata": {},
   "outputs": [
    {
     "data": {
      "text/html": [
       "<div>\n",
       "<style scoped>\n",
       "    .dataframe tbody tr th:only-of-type {\n",
       "        vertical-align: middle;\n",
       "    }\n",
       "\n",
       "    .dataframe tbody tr th {\n",
       "        vertical-align: top;\n",
       "    }\n",
       "\n",
       "    .dataframe thead th {\n",
       "        text-align: right;\n",
       "    }\n",
       "</style>\n",
       "<table border=\"1\" class=\"dataframe\">\n",
       "  <thead>\n",
       "    <tr style=\"text-align: right;\">\n",
       "      <th></th>\n",
       "      <th>Date</th>\n",
       "      <th>News</th>\n",
       "    </tr>\n",
       "  </thead>\n",
       "  <tbody>\n",
       "    <tr>\n",
       "      <th>2218550</th>\n",
       "      <td>20151104</td>\n",
       "      <td>Rules for dating a non-vegetarian</td>\n",
       "    </tr>\n",
       "    <tr>\n",
       "      <th>2218551</th>\n",
       "      <td>20151104</td>\n",
       "      <td>Top 15 diabetic diet tips for Indians</td>\n",
       "    </tr>\n",
       "    <tr>\n",
       "      <th>2218552</th>\n",
       "      <td>20151104</td>\n",
       "      <td>Why do men want sex in the morning?</td>\n",
       "    </tr>\n",
       "    <tr>\n",
       "      <th>2218553</th>\n",
       "      <td>20151104</td>\n",
       "      <td>7 exercises that can cause trouble!</td>\n",
       "    </tr>\n",
       "    <tr>\n",
       "      <th>2218554</th>\n",
       "      <td>20151104</td>\n",
       "      <td>Ram Slam T20 Challenge: Dolphins vs Lions</td>\n",
       "    </tr>\n",
       "    <tr>\n",
       "      <th>...</th>\n",
       "      <td>...</td>\n",
       "      <td>...</td>\n",
       "    </tr>\n",
       "    <tr>\n",
       "      <th>3297168</th>\n",
       "      <td>20200630</td>\n",
       "      <td>why tiktok removed 1 65 crore videos in india</td>\n",
       "    </tr>\n",
       "    <tr>\n",
       "      <th>3297169</th>\n",
       "      <td>20200630</td>\n",
       "      <td>apurva asrani calls alia bhatts mother soni ra...</td>\n",
       "    </tr>\n",
       "    <tr>\n",
       "      <th>3297170</th>\n",
       "      <td>20200630</td>\n",
       "      <td>kangana ranaut gets a doll version of herself ...</td>\n",
       "    </tr>\n",
       "    <tr>\n",
       "      <th>3297171</th>\n",
       "      <td>20200630</td>\n",
       "      <td>meezaan jaffrey reminisces his childhood days ...</td>\n",
       "    </tr>\n",
       "    <tr>\n",
       "      <th>3297172</th>\n",
       "      <td>20200630</td>\n",
       "      <td>prabhas20 titled as radhe shyam prabhas and po...</td>\n",
       "    </tr>\n",
       "  </tbody>\n",
       "</table>\n",
       "<p>1078623 rows × 2 columns</p>\n",
       "</div>"
      ],
      "text/plain": [
       "             Date                                               News\n",
       "2218550  20151104                  Rules for dating a non-vegetarian\n",
       "2218551  20151104              Top 15 diabetic diet tips for Indians\n",
       "2218552  20151104                Why do men want sex in the morning?\n",
       "2218553  20151104                7 exercises that can cause trouble!\n",
       "2218554  20151104          Ram Slam T20 Challenge: Dolphins vs Lions\n",
       "...           ...                                                ...\n",
       "3297168  20200630      why tiktok removed 1 65 crore videos in india\n",
       "3297169  20200630  apurva asrani calls alia bhatts mother soni ra...\n",
       "3297170  20200630  kangana ranaut gets a doll version of herself ...\n",
       "3297171  20200630  meezaan jaffrey reminisces his childhood days ...\n",
       "3297172  20200630  prabhas20 titled as radhe shyam prabhas and po...\n",
       "\n",
       "[1078623 rows x 2 columns]"
      ]
     },
     "execution_count": 12,
     "metadata": {},
     "output_type": "execute_result"
    }
   ],
   "source": [
    "news_data.drop([\"Category\"], axis=1, inplace=True)\n",
    "news_data"
   ]
  },
  {
   "cell_type": "code",
   "execution_count": 13,
   "metadata": {},
   "outputs": [
    {
     "name": "stdout",
     "output_type": "stream",
     "text": [
      "<class 'pandas.core.frame.DataFrame'>\n",
      "RangeIndex: 1078623 entries, 2218550 to 3297172\n",
      "Data columns (total 2 columns):\n",
      " #   Column  Non-Null Count    Dtype \n",
      "---  ------  --------------    ----- \n",
      " 0   Date    1078623 non-null  object\n",
      " 1   News    1078623 non-null  object\n",
      "dtypes: object(2)\n",
      "memory usage: 16.5+ MB\n"
     ]
    },
    {
     "data": {
      "text/html": [
       "<div>\n",
       "<style scoped>\n",
       "    .dataframe tbody tr th:only-of-type {\n",
       "        vertical-align: middle;\n",
       "    }\n",
       "\n",
       "    .dataframe tbody tr th {\n",
       "        vertical-align: top;\n",
       "    }\n",
       "\n",
       "    .dataframe thead th {\n",
       "        text-align: right;\n",
       "    }\n",
       "</style>\n",
       "<table border=\"1\" class=\"dataframe\">\n",
       "  <thead>\n",
       "    <tr style=\"text-align: right;\">\n",
       "      <th></th>\n",
       "      <th>Date</th>\n",
       "      <th>News</th>\n",
       "    </tr>\n",
       "  </thead>\n",
       "  <tbody>\n",
       "    <tr>\n",
       "      <th>2218550</th>\n",
       "      <td>20151104</td>\n",
       "      <td>Rules for dating a non-vegetarian</td>\n",
       "    </tr>\n",
       "    <tr>\n",
       "      <th>2218551</th>\n",
       "      <td>20151104</td>\n",
       "      <td>Top 15 diabetic diet tips for Indians</td>\n",
       "    </tr>\n",
       "    <tr>\n",
       "      <th>2218552</th>\n",
       "      <td>20151104</td>\n",
       "      <td>Why do men want sex in the morning?</td>\n",
       "    </tr>\n",
       "    <tr>\n",
       "      <th>2218553</th>\n",
       "      <td>20151104</td>\n",
       "      <td>7 exercises that can cause trouble!</td>\n",
       "    </tr>\n",
       "    <tr>\n",
       "      <th>2218554</th>\n",
       "      <td>20151104</td>\n",
       "      <td>Ram Slam T20 Challenge: Dolphins vs Lions</td>\n",
       "    </tr>\n",
       "    <tr>\n",
       "      <th>...</th>\n",
       "      <td>...</td>\n",
       "      <td>...</td>\n",
       "    </tr>\n",
       "    <tr>\n",
       "      <th>3297168</th>\n",
       "      <td>20200630</td>\n",
       "      <td>why tiktok removed 1 65 crore videos in india</td>\n",
       "    </tr>\n",
       "    <tr>\n",
       "      <th>3297169</th>\n",
       "      <td>20200630</td>\n",
       "      <td>apurva asrani calls alia bhatts mother soni ra...</td>\n",
       "    </tr>\n",
       "    <tr>\n",
       "      <th>3297170</th>\n",
       "      <td>20200630</td>\n",
       "      <td>kangana ranaut gets a doll version of herself ...</td>\n",
       "    </tr>\n",
       "    <tr>\n",
       "      <th>3297171</th>\n",
       "      <td>20200630</td>\n",
       "      <td>meezaan jaffrey reminisces his childhood days ...</td>\n",
       "    </tr>\n",
       "    <tr>\n",
       "      <th>3297172</th>\n",
       "      <td>20200630</td>\n",
       "      <td>prabhas20 titled as radhe shyam prabhas and po...</td>\n",
       "    </tr>\n",
       "  </tbody>\n",
       "</table>\n",
       "<p>1078623 rows × 2 columns</p>\n",
       "</div>"
      ],
      "text/plain": [
       "             Date                                               News\n",
       "2218550  20151104                  Rules for dating a non-vegetarian\n",
       "2218551  20151104              Top 15 diabetic diet tips for Indians\n",
       "2218552  20151104                Why do men want sex in the morning?\n",
       "2218553  20151104                7 exercises that can cause trouble!\n",
       "2218554  20151104          Ram Slam T20 Challenge: Dolphins vs Lions\n",
       "...           ...                                                ...\n",
       "3297168  20200630      why tiktok removed 1 65 crore videos in india\n",
       "3297169  20200630  apurva asrani calls alia bhatts mother soni ra...\n",
       "3297170  20200630  kangana ranaut gets a doll version of herself ...\n",
       "3297171  20200630  meezaan jaffrey reminisces his childhood days ...\n",
       "3297172  20200630  prabhas20 titled as radhe shyam prabhas and po...\n",
       "\n",
       "[1078623 rows x 2 columns]"
      ]
     },
     "execution_count": 13,
     "metadata": {},
     "output_type": "execute_result"
    }
   ],
   "source": [
    "news_data.info()\n",
    "news_data"
   ]
  },
  {
   "cell_type": "code",
   "execution_count": 14,
   "metadata": {},
   "outputs": [
    {
     "data": {
      "text/html": [
       "<div>\n",
       "<style scoped>\n",
       "    .dataframe tbody tr th:only-of-type {\n",
       "        vertical-align: middle;\n",
       "    }\n",
       "\n",
       "    .dataframe tbody tr th {\n",
       "        vertical-align: top;\n",
       "    }\n",
       "\n",
       "    .dataframe thead th {\n",
       "        text-align: right;\n",
       "    }\n",
       "</style>\n",
       "<table border=\"1\" class=\"dataframe\">\n",
       "  <thead>\n",
       "    <tr style=\"text-align: right;\">\n",
       "      <th></th>\n",
       "      <th>Date</th>\n",
       "      <th>News</th>\n",
       "    </tr>\n",
       "  </thead>\n",
       "  <tbody>\n",
       "    <tr>\n",
       "      <th>2218550</th>\n",
       "      <td>2015-11-04</td>\n",
       "      <td>Rules for dating a non-vegetarian</td>\n",
       "    </tr>\n",
       "    <tr>\n",
       "      <th>2218551</th>\n",
       "      <td>2015-11-04</td>\n",
       "      <td>Top 15 diabetic diet tips for Indians</td>\n",
       "    </tr>\n",
       "    <tr>\n",
       "      <th>2218552</th>\n",
       "      <td>2015-11-04</td>\n",
       "      <td>Why do men want sex in the morning?</td>\n",
       "    </tr>\n",
       "    <tr>\n",
       "      <th>2218553</th>\n",
       "      <td>2015-11-04</td>\n",
       "      <td>7 exercises that can cause trouble!</td>\n",
       "    </tr>\n",
       "    <tr>\n",
       "      <th>2218554</th>\n",
       "      <td>2015-11-04</td>\n",
       "      <td>Ram Slam T20 Challenge: Dolphins vs Lions</td>\n",
       "    </tr>\n",
       "    <tr>\n",
       "      <th>...</th>\n",
       "      <td>...</td>\n",
       "      <td>...</td>\n",
       "    </tr>\n",
       "    <tr>\n",
       "      <th>3297168</th>\n",
       "      <td>2020-06-30</td>\n",
       "      <td>why tiktok removed 1 65 crore videos in india</td>\n",
       "    </tr>\n",
       "    <tr>\n",
       "      <th>3297169</th>\n",
       "      <td>2020-06-30</td>\n",
       "      <td>apurva asrani calls alia bhatts mother soni ra...</td>\n",
       "    </tr>\n",
       "    <tr>\n",
       "      <th>3297170</th>\n",
       "      <td>2020-06-30</td>\n",
       "      <td>kangana ranaut gets a doll version of herself ...</td>\n",
       "    </tr>\n",
       "    <tr>\n",
       "      <th>3297171</th>\n",
       "      <td>2020-06-30</td>\n",
       "      <td>meezaan jaffrey reminisces his childhood days ...</td>\n",
       "    </tr>\n",
       "    <tr>\n",
       "      <th>3297172</th>\n",
       "      <td>2020-06-30</td>\n",
       "      <td>prabhas20 titled as radhe shyam prabhas and po...</td>\n",
       "    </tr>\n",
       "  </tbody>\n",
       "</table>\n",
       "<p>1078623 rows × 2 columns</p>\n",
       "</div>"
      ],
      "text/plain": [
       "              Date                                               News\n",
       "2218550 2015-11-04                  Rules for dating a non-vegetarian\n",
       "2218551 2015-11-04              Top 15 diabetic diet tips for Indians\n",
       "2218552 2015-11-04                Why do men want sex in the morning?\n",
       "2218553 2015-11-04                7 exercises that can cause trouble!\n",
       "2218554 2015-11-04          Ram Slam T20 Challenge: Dolphins vs Lions\n",
       "...            ...                                                ...\n",
       "3297168 2020-06-30      why tiktok removed 1 65 crore videos in india\n",
       "3297169 2020-06-30  apurva asrani calls alia bhatts mother soni ra...\n",
       "3297170 2020-06-30  kangana ranaut gets a doll version of herself ...\n",
       "3297171 2020-06-30  meezaan jaffrey reminisces his childhood days ...\n",
       "3297172 2020-06-30  prabhas20 titled as radhe shyam prabhas and po...\n",
       "\n",
       "[1078623 rows x 2 columns]"
      ]
     },
     "execution_count": 14,
     "metadata": {},
     "output_type": "execute_result"
    }
   ],
   "source": [
    "news_data[\"Date\"] = pd.to_datetime(news_data[\"Date\"], format=\"%Y%m%d\") #converting to Date Time Format\n",
    "news_data"
   ]
  },
  {
   "cell_type": "markdown",
   "metadata": {},
   "source": [
    "Joining all the news together Date wise"
   ]
  },
  {
   "cell_type": "code",
   "execution_count": 15,
   "metadata": {},
   "outputs": [
    {
     "data": {
      "text/html": [
       "<div>\n",
       "<style scoped>\n",
       "    .dataframe tbody tr th:only-of-type {\n",
       "        vertical-align: middle;\n",
       "    }\n",
       "\n",
       "    .dataframe tbody tr th {\n",
       "        vertical-align: top;\n",
       "    }\n",
       "\n",
       "    .dataframe thead th {\n",
       "        text-align: right;\n",
       "    }\n",
       "</style>\n",
       "<table border=\"1\" class=\"dataframe\">\n",
       "  <thead>\n",
       "    <tr style=\"text-align: right;\">\n",
       "      <th></th>\n",
       "      <th>Date</th>\n",
       "      <th>News</th>\n",
       "    </tr>\n",
       "  </thead>\n",
       "  <tbody>\n",
       "    <tr>\n",
       "      <th>0</th>\n",
       "      <td>2015-11-04</td>\n",
       "      <td>Rules for dating a non-vegetarian Top 15 diabe...</td>\n",
       "    </tr>\n",
       "    <tr>\n",
       "      <th>1</th>\n",
       "      <td>2015-11-05</td>\n",
       "      <td>Easy Gajar ka Halwa recipe Five festive hair i...</td>\n",
       "    </tr>\n",
       "    <tr>\n",
       "      <th>2</th>\n",
       "      <td>2015-11-06</td>\n",
       "      <td>10 ways to make your life more romantic Brilli...</td>\n",
       "    </tr>\n",
       "    <tr>\n",
       "      <th>3</th>\n",
       "      <td>2015-11-07</td>\n",
       "      <td>Most common food allergies you must know Reaso...</td>\n",
       "    </tr>\n",
       "    <tr>\n",
       "      <th>4</th>\n",
       "      <td>2015-11-08</td>\n",
       "      <td>10 things women simply love to hear Top 10 myt...</td>\n",
       "    </tr>\n",
       "    <tr>\n",
       "      <th>...</th>\n",
       "      <td>...</td>\n",
       "      <td>...</td>\n",
       "    </tr>\n",
       "    <tr>\n",
       "      <th>1696</th>\n",
       "      <td>2020-06-26</td>\n",
       "      <td>Containment zone residents slam high prices ch...</td>\n",
       "    </tr>\n",
       "    <tr>\n",
       "      <th>1697</th>\n",
       "      <td>2020-06-27</td>\n",
       "      <td>like me i wont let you have a toxic relationsh...</td>\n",
       "    </tr>\n",
       "    <tr>\n",
       "      <th>1698</th>\n",
       "      <td>2020-06-28</td>\n",
       "      <td>Atanu Ghosh plans to rewrite old scripts to ma...</td>\n",
       "    </tr>\n",
       "    <tr>\n",
       "      <th>1699</th>\n",
       "      <td>2020-06-29</td>\n",
       "      <td>6 hot and stylish bikini looks of Katrina Kaif...</td>\n",
       "    </tr>\n",
       "    <tr>\n",
       "      <th>1700</th>\n",
       "      <td>2020-06-30</td>\n",
       "      <td>Detective Byomkesh Bakshy! Edge of Tomorrow Fi...</td>\n",
       "    </tr>\n",
       "  </tbody>\n",
       "</table>\n",
       "<p>1701 rows × 2 columns</p>\n",
       "</div>"
      ],
      "text/plain": [
       "           Date                                               News\n",
       "0    2015-11-04  Rules for dating a non-vegetarian Top 15 diabe...\n",
       "1    2015-11-05  Easy Gajar ka Halwa recipe Five festive hair i...\n",
       "2    2015-11-06  10 ways to make your life more romantic Brilli...\n",
       "3    2015-11-07  Most common food allergies you must know Reaso...\n",
       "4    2015-11-08  10 things women simply love to hear Top 10 myt...\n",
       "...         ...                                                ...\n",
       "1696 2020-06-26  Containment zone residents slam high prices ch...\n",
       "1697 2020-06-27  like me i wont let you have a toxic relationsh...\n",
       "1698 2020-06-28  Atanu Ghosh plans to rewrite old scripts to ma...\n",
       "1699 2020-06-29  6 hot and stylish bikini looks of Katrina Kaif...\n",
       "1700 2020-06-30  Detective Byomkesh Bakshy! Edge of Tomorrow Fi...\n",
       "\n",
       "[1701 rows x 2 columns]"
      ]
     },
     "execution_count": 15,
     "metadata": {},
     "output_type": "execute_result"
    }
   ],
   "source": [
    "news_data[\"News\"] = news_data.groupby([\"Date\"]).transform(lambda x : ' '.join(x)) \n",
    "news_data = news_data.drop_duplicates() \n",
    "news_data.reset_index(inplace = True, drop = True)\n",
    "news_data"
   ]
  },
  {
   "cell_type": "markdown",
   "metadata": {},
   "source": [
    "# Using textblob to find Polarity and Subjectivity in News"
   ]
  },
  {
   "cell_type": "code",
   "execution_count": 16,
   "metadata": {},
   "outputs": [
    {
     "name": "stderr",
     "output_type": "stream",
     "text": [
      "C:\\Users\\Animkush\\anaconda3\\lib\\site-packages\\ipykernel_launcher.py:11: SettingWithCopyWarning: \n",
      "A value is trying to be set on a copy of a slice from a DataFrame.\n",
      "Try using .loc[row_indexer,col_indexer] = value instead\n",
      "\n",
      "See the caveats in the documentation: https://pandas.pydata.org/pandas-docs/stable/user_guide/indexing.html#returning-a-view-versus-a-copy\n",
      "  # This is added back by InteractiveShellApp.init_path()\n",
      "C:\\Users\\Animkush\\anaconda3\\lib\\site-packages\\ipykernel_launcher.py:12: SettingWithCopyWarning: \n",
      "A value is trying to be set on a copy of a slice from a DataFrame.\n",
      "Try using .loc[row_indexer,col_indexer] = value instead\n",
      "\n",
      "See the caveats in the documentation: https://pandas.pydata.org/pandas-docs/stable/user_guide/indexing.html#returning-a-view-versus-a-copy\n",
      "  if sys.path[0] == '':\n"
     ]
    }
   ],
   "source": [
    "#import nltk\n",
    "#nltk.download('punkt')\n",
    "from textblob import TextBlob\n",
    "\n",
    "def getSub(news):\n",
    "    return TextBlob(news).sentiment.subjectivity\n",
    "\n",
    "def getPol(news):\n",
    "    return TextBlob(news).sentiment.polarity\n",
    "\n",
    "news_data[\"Subjectivity\"] = news_data[\"News\"].apply(getSub)\n",
    "news_data[\"Polarity\"] = news_data[\"News\"].apply(getPol)"
   ]
  },
  {
   "cell_type": "code",
   "execution_count": 17,
   "metadata": {},
   "outputs": [
    {
     "data": {
      "text/html": [
       "<div>\n",
       "<style scoped>\n",
       "    .dataframe tbody tr th:only-of-type {\n",
       "        vertical-align: middle;\n",
       "    }\n",
       "\n",
       "    .dataframe tbody tr th {\n",
       "        vertical-align: top;\n",
       "    }\n",
       "\n",
       "    .dataframe thead th {\n",
       "        text-align: right;\n",
       "    }\n",
       "</style>\n",
       "<table border=\"1\" class=\"dataframe\">\n",
       "  <thead>\n",
       "    <tr style=\"text-align: right;\">\n",
       "      <th></th>\n",
       "      <th>Date</th>\n",
       "      <th>News</th>\n",
       "      <th>Subjectivity</th>\n",
       "      <th>Polarity</th>\n",
       "    </tr>\n",
       "  </thead>\n",
       "  <tbody>\n",
       "    <tr>\n",
       "      <th>0</th>\n",
       "      <td>2015-11-04</td>\n",
       "      <td>Rules for dating a non-vegetarian Top 15 diabe...</td>\n",
       "      <td>0.414051</td>\n",
       "      <td>0.079806</td>\n",
       "    </tr>\n",
       "    <tr>\n",
       "      <th>1</th>\n",
       "      <td>2015-11-05</td>\n",
       "      <td>Easy Gajar ka Halwa recipe Five festive hair i...</td>\n",
       "      <td>0.407633</td>\n",
       "      <td>0.080671</td>\n",
       "    </tr>\n",
       "    <tr>\n",
       "      <th>2</th>\n",
       "      <td>2015-11-06</td>\n",
       "      <td>10 ways to make your life more romantic Brilli...</td>\n",
       "      <td>0.437292</td>\n",
       "      <td>0.068145</td>\n",
       "    </tr>\n",
       "    <tr>\n",
       "      <th>3</th>\n",
       "      <td>2015-11-07</td>\n",
       "      <td>Most common food allergies you must know Reaso...</td>\n",
       "      <td>0.426250</td>\n",
       "      <td>0.089414</td>\n",
       "    </tr>\n",
       "    <tr>\n",
       "      <th>4</th>\n",
       "      <td>2015-11-08</td>\n",
       "      <td>10 things women simply love to hear Top 10 myt...</td>\n",
       "      <td>0.434014</td>\n",
       "      <td>0.114884</td>\n",
       "    </tr>\n",
       "    <tr>\n",
       "      <th>...</th>\n",
       "      <td>...</td>\n",
       "      <td>...</td>\n",
       "      <td>...</td>\n",
       "      <td>...</td>\n",
       "    </tr>\n",
       "    <tr>\n",
       "      <th>1696</th>\n",
       "      <td>2020-06-26</td>\n",
       "      <td>Containment zone residents slam high prices ch...</td>\n",
       "      <td>0.381841</td>\n",
       "      <td>0.068333</td>\n",
       "    </tr>\n",
       "    <tr>\n",
       "      <th>1697</th>\n",
       "      <td>2020-06-27</td>\n",
       "      <td>like me i wont let you have a toxic relationsh...</td>\n",
       "      <td>0.398808</td>\n",
       "      <td>0.079290</td>\n",
       "    </tr>\n",
       "    <tr>\n",
       "      <th>1698</th>\n",
       "      <td>2020-06-28</td>\n",
       "      <td>Atanu Ghosh plans to rewrite old scripts to ma...</td>\n",
       "      <td>0.402636</td>\n",
       "      <td>0.057636</td>\n",
       "    </tr>\n",
       "    <tr>\n",
       "      <th>1699</th>\n",
       "      <td>2020-06-29</td>\n",
       "      <td>6 hot and stylish bikini looks of Katrina Kaif...</td>\n",
       "      <td>0.396828</td>\n",
       "      <td>0.061956</td>\n",
       "    </tr>\n",
       "    <tr>\n",
       "      <th>1700</th>\n",
       "      <td>2020-06-30</td>\n",
       "      <td>Detective Byomkesh Bakshy! Edge of Tomorrow Fi...</td>\n",
       "      <td>0.384191</td>\n",
       "      <td>0.071554</td>\n",
       "    </tr>\n",
       "  </tbody>\n",
       "</table>\n",
       "<p>1701 rows × 4 columns</p>\n",
       "</div>"
      ],
      "text/plain": [
       "           Date                                               News  \\\n",
       "0    2015-11-04  Rules for dating a non-vegetarian Top 15 diabe...   \n",
       "1    2015-11-05  Easy Gajar ka Halwa recipe Five festive hair i...   \n",
       "2    2015-11-06  10 ways to make your life more romantic Brilli...   \n",
       "3    2015-11-07  Most common food allergies you must know Reaso...   \n",
       "4    2015-11-08  10 things women simply love to hear Top 10 myt...   \n",
       "...         ...                                                ...   \n",
       "1696 2020-06-26  Containment zone residents slam high prices ch...   \n",
       "1697 2020-06-27  like me i wont let you have a toxic relationsh...   \n",
       "1698 2020-06-28  Atanu Ghosh plans to rewrite old scripts to ma...   \n",
       "1699 2020-06-29  6 hot and stylish bikini looks of Katrina Kaif...   \n",
       "1700 2020-06-30  Detective Byomkesh Bakshy! Edge of Tomorrow Fi...   \n",
       "\n",
       "      Subjectivity  Polarity  \n",
       "0         0.414051  0.079806  \n",
       "1         0.407633  0.080671  \n",
       "2         0.437292  0.068145  \n",
       "3         0.426250  0.089414  \n",
       "4         0.434014  0.114884  \n",
       "...            ...       ...  \n",
       "1696      0.381841  0.068333  \n",
       "1697      0.398808  0.079290  \n",
       "1698      0.402636  0.057636  \n",
       "1699      0.396828  0.061956  \n",
       "1700      0.384191  0.071554  \n",
       "\n",
       "[1701 rows x 4 columns]"
      ]
     },
     "execution_count": 17,
     "metadata": {},
     "output_type": "execute_result"
    }
   ],
   "source": [
    "news_data"
   ]
  },
  {
   "cell_type": "code",
   "execution_count": 18,
   "metadata": {},
   "outputs": [
    {
     "data": {
      "text/plain": [
       "(array([  7.,  37., 136., 337., 443., 391., 226.,  95.,  19.,  10.]),\n",
       " array([0.33258472, 0.34656618, 0.36054765, 0.37452911, 0.38851057,\n",
       "        0.40249203, 0.4164735 , 0.43045496, 0.44443642, 0.45841788,\n",
       "        0.47239935]),\n",
       " <a list of 10 Patch objects>)"
      ]
     },
     "execution_count": 18,
     "metadata": {},
     "output_type": "execute_result"
    },
    {
     "data": {
      "image/png": "[encoded data removed]",
      "text/plain": [
       "<Figure size 432x288 with 1 Axes>"
      ]
     },
     "metadata": {},
     "output_type": "display_data"
    }
   ],
   "source": [
    "plt.hist(news_data[\"Subjectivity\"], color=\"Green\")"
   ]
  },
  {
   "cell_type": "code",
   "execution_count": 19,
   "metadata": {},
   "outputs": [
    {
     "data": {
      "text/plain": [
       "(array([ 10.,  78., 242., 454., 465., 307., 104.,  32.,   7.,   2.]),\n",
       " array([-0.01008314,  0.00685161,  0.02378636,  0.04072111,  0.05765586,\n",
       "         0.07459061,  0.09152535,  0.1084601 ,  0.12539485,  0.1423296 ,\n",
       "         0.15926435]),\n",
       " <a list of 10 Patch objects>)"
      ]
     },
     "execution_count": 19,
     "metadata": {},
     "output_type": "execute_result"
    },
    {
     "data": {
      "image/png": "[encoded data removed]",
      "text/plain": [
       "<Figure size 432x288 with 1 Axes>"
      ]
     },
     "metadata": {},
     "output_type": "display_data"
    }
   ],
   "source": [
    "plt.hist(news_data[\"Polarity\"], color=\"Blue\")"
   ]
  },
  {
   "cell_type": "code",
   "execution_count": 20,
   "metadata": {},
   "outputs": [
    {
     "data": {
      "text/plain": [
       "<seaborn.axisgrid.JointGrid at 0x2de96d6b518>"
      ]
     },
     "execution_count": 20,
     "metadata": {},
     "output_type": "execute_result"
    },
    {
     "data": {
      "image/png": "[encoded data removed]",
      "text/plain": [
       "<Figure size 432x432 with 3 Axes>"
      ]
     },
     "metadata": {},
     "output_type": "display_data"
    }
   ],
   "source": [
    "sb.jointplot(x =\"Subjectivity\", y=\"Polarity\", data=news_data, kind=\"kde\")"
   ]
  },
  {
   "cell_type": "markdown",
   "metadata": {},
   "source": [
    "Further finding a positive and negative news from all news data."
   ]
  },
  {
   "cell_type": "code",
   "execution_count": 21,
   "metadata": {},
   "outputs": [
    {
     "name": "stderr",
     "output_type": "stream",
     "text": [
      "C:\\Users\\Animkush\\anaconda3\\lib\\site-packages\\ipykernel_launcher.py:3: SettingWithCopyWarning: \n",
      "A value is trying to be set on a copy of a slice from a DataFrame.\n",
      "Try using .loc[row_indexer,col_indexer] = value instead\n",
      "\n",
      "See the caveats in the documentation: https://pandas.pydata.org/pandas-docs/stable/user_guide/indexing.html#returning-a-view-versus-a-copy\n",
      "  This is separate from the ipykernel package so we can avoid doing imports until\n",
      "C:\\Users\\Animkush\\anaconda3\\lib\\site-packages\\ipykernel_launcher.py:4: SettingWithCopyWarning: \n",
      "A value is trying to be set on a copy of a slice from a DataFrame.\n",
      "Try using .loc[row_indexer,col_indexer] = value instead\n",
      "\n",
      "See the caveats in the documentation: https://pandas.pydata.org/pandas-docs/stable/user_guide/indexing.html#returning-a-view-versus-a-copy\n",
      "  after removing the cwd from sys.path.\n"
     ]
    }
   ],
   "source": [
    "sia = SentimentIntensityAnalyzer()\n",
    "\n",
    "news_data[\"Negative\"] = [sia.polarity_scores(v)[\"neg\"] for v in news_data[\"News\"]]\n",
    "news_data[\"Positive\"] = [sia.polarity_scores(v)[\"pos\"] for v in news_data[\"News\"]]\n"
   ]
  },
  {
   "cell_type": "markdown",
   "metadata": {},
   "source": [
    "# Merging Both"
   ]
  },
  {
   "cell_type": "code",
   "execution_count": 22,
   "metadata": {},
   "outputs": [],
   "source": [
    "merge = pd.merge(data, news_data, how=\"inner\", on=\"Date\")"
   ]
  },
  {
   "cell_type": "code",
   "execution_count": 23,
   "metadata": {},
   "outputs": [],
   "source": [
    "fdata = merge[[\"Close\", \"Subjectivity\", \"Polarity\", \"Negative\", \"Positive\"]]"
   ]
  },
  {
   "cell_type": "code",
   "execution_count": 24,
   "metadata": {},
   "outputs": [
    {
     "data": {
      "text/html": [
       "<div>\n",
       "<style scoped>\n",
       "    .dataframe tbody tr th:only-of-type {\n",
       "        vertical-align: middle;\n",
       "    }\n",
       "\n",
       "    .dataframe tbody tr th {\n",
       "        vertical-align: top;\n",
       "    }\n",
       "\n",
       "    .dataframe thead th {\n",
       "        text-align: right;\n",
       "    }\n",
       "</style>\n",
       "<table border=\"1\" class=\"dataframe\">\n",
       "  <thead>\n",
       "    <tr style=\"text-align: right;\">\n",
       "      <th></th>\n",
       "      <th>Close</th>\n",
       "      <th>Subjectivity</th>\n",
       "      <th>Polarity</th>\n",
       "      <th>Negative</th>\n",
       "      <th>Positive</th>\n",
       "    </tr>\n",
       "  </thead>\n",
       "  <tbody>\n",
       "    <tr>\n",
       "      <th>0</th>\n",
       "      <td>26552.919922</td>\n",
       "      <td>0.414051</td>\n",
       "      <td>0.079806</td>\n",
       "      <td>0.144</td>\n",
       "      <td>0.109</td>\n",
       "    </tr>\n",
       "    <tr>\n",
       "      <th>1</th>\n",
       "      <td>26304.199219</td>\n",
       "      <td>0.407633</td>\n",
       "      <td>0.080671</td>\n",
       "      <td>0.130</td>\n",
       "      <td>0.115</td>\n",
       "    </tr>\n",
       "    <tr>\n",
       "      <th>2</th>\n",
       "      <td>26265.240234</td>\n",
       "      <td>0.437292</td>\n",
       "      <td>0.068145</td>\n",
       "      <td>0.139</td>\n",
       "      <td>0.109</td>\n",
       "    </tr>\n",
       "    <tr>\n",
       "      <th>3</th>\n",
       "      <td>26121.400391</td>\n",
       "      <td>0.440146</td>\n",
       "      <td>0.103648</td>\n",
       "      <td>0.138</td>\n",
       "      <td>0.131</td>\n",
       "    </tr>\n",
       "    <tr>\n",
       "      <th>4</th>\n",
       "      <td>25743.259766</td>\n",
       "      <td>0.425240</td>\n",
       "      <td>0.084667</td>\n",
       "      <td>0.126</td>\n",
       "      <td>0.128</td>\n",
       "    </tr>\n",
       "    <tr>\n",
       "      <th>...</th>\n",
       "      <td>...</td>\n",
       "      <td>...</td>\n",
       "      <td>...</td>\n",
       "      <td>...</td>\n",
       "      <td>...</td>\n",
       "    </tr>\n",
       "    <tr>\n",
       "      <th>1134</th>\n",
       "      <td>34868.980469</td>\n",
       "      <td>0.387802</td>\n",
       "      <td>0.088329</td>\n",
       "      <td>0.136</td>\n",
       "      <td>0.078</td>\n",
       "    </tr>\n",
       "    <tr>\n",
       "      <th>1135</th>\n",
       "      <td>34842.101563</td>\n",
       "      <td>0.403998</td>\n",
       "      <td>0.027038</td>\n",
       "      <td>0.142</td>\n",
       "      <td>0.064</td>\n",
       "    </tr>\n",
       "    <tr>\n",
       "      <th>1136</th>\n",
       "      <td>35171.269531</td>\n",
       "      <td>0.381841</td>\n",
       "      <td>0.068333</td>\n",
       "      <td>0.163</td>\n",
       "      <td>0.089</td>\n",
       "    </tr>\n",
       "    <tr>\n",
       "      <th>1137</th>\n",
       "      <td>34961.519531</td>\n",
       "      <td>0.396828</td>\n",
       "      <td>0.061956</td>\n",
       "      <td>0.144</td>\n",
       "      <td>0.086</td>\n",
       "    </tr>\n",
       "    <tr>\n",
       "      <th>1138</th>\n",
       "      <td>34915.800781</td>\n",
       "      <td>0.384191</td>\n",
       "      <td>0.071554</td>\n",
       "      <td>0.137</td>\n",
       "      <td>0.072</td>\n",
       "    </tr>\n",
       "  </tbody>\n",
       "</table>\n",
       "<p>1139 rows × 5 columns</p>\n",
       "</div>"
      ],
      "text/plain": [
       "             Close  Subjectivity  Polarity  Negative  Positive\n",
       "0     26552.919922      0.414051  0.079806     0.144     0.109\n",
       "1     26304.199219      0.407633  0.080671     0.130     0.115\n",
       "2     26265.240234      0.437292  0.068145     0.139     0.109\n",
       "3     26121.400391      0.440146  0.103648     0.138     0.131\n",
       "4     25743.259766      0.425240  0.084667     0.126     0.128\n",
       "...            ...           ...       ...       ...       ...\n",
       "1134  34868.980469      0.387802  0.088329     0.136     0.078\n",
       "1135  34842.101563      0.403998  0.027038     0.142     0.064\n",
       "1136  35171.269531      0.381841  0.068333     0.163     0.089\n",
       "1137  34961.519531      0.396828  0.061956     0.144     0.086\n",
       "1138  34915.800781      0.384191  0.071554     0.137     0.072\n",
       "\n",
       "[1139 rows x 5 columns]"
      ]
     },
     "execution_count": 24,
     "metadata": {},
     "output_type": "execute_result"
    }
   ],
   "source": [
    "fdata"
   ]
  },
  {
   "cell_type": "code",
   "execution_count": 25,
   "metadata": {},
   "outputs": [
    {
     "data": {
      "text/html": [
       "<div>\n",
       "<style scoped>\n",
       "    .dataframe tbody tr th:only-of-type {\n",
       "        vertical-align: middle;\n",
       "    }\n",
       "\n",
       "    .dataframe tbody tr th {\n",
       "        vertical-align: top;\n",
       "    }\n",
       "\n",
       "    .dataframe thead th {\n",
       "        text-align: right;\n",
       "    }\n",
       "</style>\n",
       "<table border=\"1\" class=\"dataframe\">\n",
       "  <thead>\n",
       "    <tr style=\"text-align: right;\">\n",
       "      <th></th>\n",
       "      <th>Close</th>\n",
       "      <th>Subjectivity</th>\n",
       "      <th>Polarity</th>\n",
       "      <th>Negative</th>\n",
       "      <th>Positive</th>\n",
       "    </tr>\n",
       "  </thead>\n",
       "  <tbody>\n",
       "    <tr>\n",
       "      <th>0</th>\n",
       "      <td>0.189523</td>\n",
       "      <td>0.582671</td>\n",
       "      <td>0.641650</td>\n",
       "      <td>0.452381</td>\n",
       "      <td>0.658824</td>\n",
       "    </tr>\n",
       "    <tr>\n",
       "      <th>1</th>\n",
       "      <td>0.176433</td>\n",
       "      <td>0.536772</td>\n",
       "      <td>0.647826</td>\n",
       "      <td>0.341270</td>\n",
       "      <td>0.729412</td>\n",
       "    </tr>\n",
       "    <tr>\n",
       "      <th>2</th>\n",
       "      <td>0.174383</td>\n",
       "      <td>0.748902</td>\n",
       "      <td>0.558415</td>\n",
       "      <td>0.412698</td>\n",
       "      <td>0.658824</td>\n",
       "    </tr>\n",
       "    <tr>\n",
       "      <th>3</th>\n",
       "      <td>0.166812</td>\n",
       "      <td>0.769315</td>\n",
       "      <td>0.811844</td>\n",
       "      <td>0.404762</td>\n",
       "      <td>0.917647</td>\n",
       "    </tr>\n",
       "    <tr>\n",
       "      <th>4</th>\n",
       "      <td>0.146911</td>\n",
       "      <td>0.662699</td>\n",
       "      <td>0.676350</td>\n",
       "      <td>0.309524</td>\n",
       "      <td>0.882353</td>\n",
       "    </tr>\n",
       "    <tr>\n",
       "      <th>...</th>\n",
       "      <td>...</td>\n",
       "      <td>...</td>\n",
       "      <td>...</td>\n",
       "      <td>...</td>\n",
       "      <td>...</td>\n",
       "    </tr>\n",
       "    <tr>\n",
       "      <th>1134</th>\n",
       "      <td>0.627192</td>\n",
       "      <td>0.394929</td>\n",
       "      <td>0.702493</td>\n",
       "      <td>0.388889</td>\n",
       "      <td>0.294118</td>\n",
       "    </tr>\n",
       "    <tr>\n",
       "      <th>1135</th>\n",
       "      <td>0.625777</td>\n",
       "      <td>0.510774</td>\n",
       "      <td>0.264982</td>\n",
       "      <td>0.436508</td>\n",
       "      <td>0.129412</td>\n",
       "    </tr>\n",
       "    <tr>\n",
       "      <th>1136</th>\n",
       "      <td>0.643101</td>\n",
       "      <td>0.352298</td>\n",
       "      <td>0.559758</td>\n",
       "      <td>0.603175</td>\n",
       "      <td>0.423529</td>\n",
       "    </tr>\n",
       "    <tr>\n",
       "      <th>1137</th>\n",
       "      <td>0.632062</td>\n",
       "      <td>0.459491</td>\n",
       "      <td>0.514237</td>\n",
       "      <td>0.452381</td>\n",
       "      <td>0.388235</td>\n",
       "    </tr>\n",
       "    <tr>\n",
       "      <th>1138</th>\n",
       "      <td>0.629656</td>\n",
       "      <td>0.369102</td>\n",
       "      <td>0.582751</td>\n",
       "      <td>0.396825</td>\n",
       "      <td>0.223529</td>\n",
       "    </tr>\n",
       "  </tbody>\n",
       "</table>\n",
       "<p>1139 rows × 5 columns</p>\n",
       "</div>"
      ],
      "text/plain": [
       "         Close  Subjectivity  Polarity  Negative  Positive\n",
       "0     0.189523      0.582671  0.641650  0.452381  0.658824\n",
       "1     0.176433      0.536772  0.647826  0.341270  0.729412\n",
       "2     0.174383      0.748902  0.558415  0.412698  0.658824\n",
       "3     0.166812      0.769315  0.811844  0.404762  0.917647\n",
       "4     0.146911      0.662699  0.676350  0.309524  0.882353\n",
       "...        ...           ...       ...       ...       ...\n",
       "1134  0.627192      0.394929  0.702493  0.388889  0.294118\n",
       "1135  0.625777      0.510774  0.264982  0.436508  0.129412\n",
       "1136  0.643101      0.352298  0.559758  0.603175  0.423529\n",
       "1137  0.632062      0.459491  0.514237  0.452381  0.388235\n",
       "1138  0.629656      0.369102  0.582751  0.396825  0.223529\n",
       "\n",
       "[1139 rows x 5 columns]"
      ]
     },
     "execution_count": 25,
     "metadata": {},
     "output_type": "execute_result"
    }
   ],
   "source": [
    "sc = MinMaxScaler()\n",
    "newdata = pd.DataFrame(sc.fit_transform(fdata))\n",
    "newdata.columns = fdata.columns\n",
    "newdata.index = fdata.index\n",
    "newdata"
   ]
  },
  {
   "cell_type": "markdown",
   "metadata": {},
   "source": [
    "# Hybrid Model for Predicting Close Stock value using news Sentiment."
   ]
  },
  {
   "cell_type": "code",
   "execution_count": 29,
   "metadata": {},
   "outputs": [],
   "source": [
    "X = newdata.drop(\"Close\", axis=1)\n",
    "y = newdata[\"Close\"]\n",
    "\n",
    "X_train, X_test, y_train, y_test = train_test_split(X, y, test_size=0.2, random_state=0)"
   ]
  },
  {
   "cell_type": "markdown",
   "metadata": {},
   "source": [
    "# Using RandomForest"
   ]
  },
  {
   "cell_type": "code",
   "execution_count": 30,
   "metadata": {},
   "outputs": [],
   "source": [
    "rf = RandomForestRegressor()\n",
    "rf.fit(X_train, y_train)\n",
    "pred = rf.predict(X_test)"
   ]
  },
  {
   "cell_type": "code",
   "execution_count": 34,
   "metadata": {},
   "outputs": [
    {
     "name": "stdout",
     "output_type": "stream",
     "text": [
      "RMSE 0.05457312663510177\n"
     ]
    }
   ],
   "source": [
    "print(\"RMSE RandomForest\", mean_squared_error(y_test, pred))"
   ]
  },
  {
   "cell_type": "markdown",
   "metadata": {},
   "source": [
    "# Using XGboost"
   ]
  },
  {
   "cell_type": "code",
   "execution_count": 36,
   "metadata": {},
   "outputs": [
    {
     "data": {
      "text/plain": [
       "XGBRegressor(base_score=0.5, booster='gbtree', colsample_bylevel=1,\n",
       "             colsample_bynode=1, colsample_bytree=1, gamma=0, gpu_id=-1,\n",
       "             importance_type='gain', interaction_constraints='',\n",
       "             learning_rate=0.300000012, max_delta_step=0, max_depth=6,\n",
       "             min_child_weight=1, missing=nan, monotone_constraints='()',\n",
       "             n_estimators=100, n_jobs=0, num_parallel_tree=1, random_state=0,\n",
       "             reg_alpha=0, reg_lambda=1, scale_pos_weight=1, subsample=1,\n",
       "             tree_method='exact', validate_parameters=1, verbosity=None)"
      ]
     },
     "execution_count": 36,
     "metadata": {},
     "output_type": "execute_result"
    }
   ],
   "source": [
    "xgb = xgboost.XGBRegressor()\n",
    "xgb.fit(X_train, y_train)"
   ]
  },
  {
   "cell_type": "code",
   "execution_count": 38,
   "metadata": {},
   "outputs": [
    {
     "name": "stdout",
     "output_type": "stream",
     "text": [
      "RMSE XGB 0.06427802517648049\n"
     ]
    }
   ],
   "source": [
    "predxgb = xgb.predict(X_test)\n",
    "print(\"RMSE XGB\", mean_squared_error(y_test, predxgb))"
   ]
  },
  {
   "cell_type": "code",
   "execution_count": null,
   "metadata": {},
   "outputs": [],
   "source": []
  }
 ],
 "metadata": {
  "kernelspec": {
   "display_name": "Python 3",
   "language": "python",
   "name": "python3"
  },
  "language_info": {
   "codemirror_mode": {
    "name": "ipython",
    "version": 3
   },
   "file_extension": ".py",
   "mimetype": "text/x-python",
   "name": "python",
   "nbconvert_exporter": "python",
   "pygments_lexer": "ipython3",
   "version": "3.6.10"
  }
 },
 "nbformat": 4,
 "nbformat_minor": 4
}
